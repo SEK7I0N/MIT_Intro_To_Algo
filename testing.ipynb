{
 "cells": [
  {
   "cell_type": "code",
   "execution_count": 1,
   "id": "f8e93758-9253-401b-94bf-3881664a3290",
   "metadata": {},
   "outputs": [
    {
     "name": "stdout",
     "output_type": "stream",
     "text": [
      "range(0, 5)\n"
     ]
    }
   ],
   "source": [
    "print(range(5))\n"
   ]
  },
  {
   "cell_type": "code",
   "execution_count": 2,
   "id": "9509c1ca-4e88-469f-98c8-9d16671f76c6",
   "metadata": {},
   "outputs": [
    {
     "ename": "SyntaxError",
     "evalue": "invalid syntax (Temp/ipykernel_4428/2586456271.py, line 1)",
     "output_type": "error",
     "traceback": [
      "\u001b[1;36m  File \u001b[1;32m\"C:\\Users\\stewa\\AppData\\Local\\Temp/ipykernel_4428/2586456271.py\"\u001b[1;36m, line \u001b[1;32m1\u001b[0m\n\u001b[1;33m    print(i) for i in range(5)\u001b[0m\n\u001b[1;37m             ^\u001b[0m\n\u001b[1;31mSyntaxError\u001b[0m\u001b[1;31m:\u001b[0m invalid syntax\n"
     ]
    }
   ],
   "source": [
    "print(i) for i in range(5)"
   ]
  },
  {
   "cell_type": "code",
   "execution_count": 3,
   "id": "811689b3-50ec-400d-bbae-ccb1399da65c",
   "metadata": {},
   "outputs": [
    {
     "name": "stdout",
     "output_type": "stream",
     "text": [
      "<generator object <genexpr> at 0x000001E0E89007B0>\n"
     ]
    }
   ],
   "source": [
    "print(i for i in range(6))\n"
   ]
  },
  {
   "cell_type": "code",
   "execution_count": 4,
   "id": "9d09f43b-ff19-4350-8f9c-8a1081d10709",
   "metadata": {},
   "outputs": [
    {
     "name": "stdout",
     "output_type": "stream",
     "text": [
      "[0, 1, 2, 3, 4, 5]\n"
     ]
    }
   ],
   "source": [
    "print([i for i in range(6)])\n"
   ]
  },
  {
   "cell_type": "code",
   "execution_count": null,
   "id": "8c00a857-54cc-4fa4-b085-56cedd59cac3",
   "metadata": {},
   "outputs": [],
   "source": []
  }
 ],
 "metadata": {
  "kernelspec": {
   "display_name": "Python 3 (ipykernel)",
   "language": "python",
   "name": "python3"
  },
  "language_info": {
   "codemirror_mode": {
    "name": "ipython",
    "version": 3
   },
   "file_extension": ".py",
   "mimetype": "text/x-python",
   "name": "python",
   "nbconvert_exporter": "python",
   "pygments_lexer": "ipython3",
   "version": "3.9.5"
  }
 },
 "nbformat": 4,
 "nbformat_minor": 5
}
